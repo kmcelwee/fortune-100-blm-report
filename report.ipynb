{
 "cells": [
  {
   "cell_type": "markdown",
   "metadata": {
    "variables": {
     " a ": "3",
     " b ": "4",
     " c ": "2"
    }
   },
   "source": [
    "# Header 1\n",
    "\n",
    "* Review Globus intro! (1 hr) Maybe some Flask refreshers\n",
    "\t* See if you can get old globus meeting agendas\n",
    "\t* Gameplan: Instead of using dropbox, use Globus to migrate Tigriss to DSpace.\n",
    "* Double check OSTI went through\n",
    "* You have issues to keep you busy\n",
    "* Don’t forget Mondays are research days, use it well!\n",
    "\t* Reflect on all sprints so far\n",
    "* [College of Physicians](https://collegeofphysicians.org/education/junior-fellows) “Junior Fellows Program” Coding for an hour December 2 to show high schoolers how cool coding is! It’ll be in processing\n",
    "\n",
    "## Header 2\n",
    "\n",
    "Lorem ipsum dolor sit amet, consectetur adipisicing elit, sed do eiusmod\n",
    "tempor incididunt ut labore et dolore magna aliqua. Ut enim ad minim veniam,\n",
    "quis nostrud exercitation ullamco laboris nisi ut aliquip ex ea commodo\n",
    "consequat. Duis aute irure dolor in reprehenderit in voluptate velit esse\n",
    "cillum dolore eu fugiat nulla pariatur. Excepteur sint occaecat cupidatat non\n",
    "proident, sunt in culpa qui officia deserunt mollit anim id est laborum.\n",
    "\n",
    "**Bold text**\n",
    "{{ a }} {{ b }} {{ c }}\n",
    "\n",
    "Lorem ipsum dolor sit amet, consectetur adipisicing elit, sed do eiusmod\n",
    "tempor incididunt ut labore et dolore magna aliqua. Ut enim ad minim veniam,\n",
    "quis nostrud exercitation ullamco laboris nisi ut aliquip ex ea commodo\n",
    "consequat. Duis aute irure dolor in reprehenderit in voluptate velit esse\n",
    "cillum dolore eu fugiat nulla pariatur. Excepteur sint occaecat cupidatat non\n",
    "proident, sunt in culpa qui officia deserunt mollit anim id est laborum.\n",
    "\n",
    "\n",
    "![test.png](test.png)"
   ]
  },
  {
   "cell_type": "code",
   "execution_count": 1,
   "metadata": {},
   "outputs": [],
   "source": [
    "a = 3"
   ]
  },
  {
   "cell_type": "code",
   "execution_count": 3,
   "metadata": {},
   "outputs": [],
   "source": [
    "b = 4"
   ]
  },
  {
   "cell_type": "code",
   "execution_count": 4,
   "metadata": {},
   "outputs": [],
   "source": [
    "c = 2"
   ]
  },
  {
   "cell_type": "code",
   "execution_count": null,
   "metadata": {},
   "outputs": [],
   "source": []
  }
 ],
 "metadata": {
  "kernelspec": {
   "display_name": "Python 3",
   "language": "python",
   "name": "python3"
  },
  "language_info": {
   "codemirror_mode": {
    "name": "ipython",
    "version": 3
   },
   "file_extension": ".py",
   "mimetype": "text/x-python",
   "name": "python",
   "nbconvert_exporter": "python",
   "pygments_lexer": "ipython3",
   "version": "3.7.6"
  }
 },
 "nbformat": 4,
 "nbformat_minor": 4
}
